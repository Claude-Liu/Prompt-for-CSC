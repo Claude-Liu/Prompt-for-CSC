{
 "cells": [
  {
   "cell_type": "markdown",
   "metadata": {},
   "source": [
    "### example classification"
   ]
  },
  {
   "cell_type": "code",
   "execution_count": 42,
   "metadata": {},
   "outputs": [],
   "source": [
    "def _read_csv(input_file):\n",
    "    with open(input_file, \"r\", encoding=\"utf-8\") as f:\n",
    "        lines = []\n",
    "        for line in f:\n",
    "            src, trg = line.strip().split(\"\\t\")\n",
    "            if len(src)==len(trg):\n",
    "                lines.append((src.split(), trg.split()))\n",
    "        return lines"
   ]
  },
  {
   "cell_type": "code",
   "execution_count": 43,
   "metadata": {},
   "outputs": [
    {
     "name": "stdout",
     "output_type": "stream",
     "text": [
      "(['完', '善', '检', '剑', '检', '测', '体', '系', '，', '加', '强', '检', '验', '检', '测', '公', '共', '服', '务', '平', '台', '建', '设', '。'], ['完', '善', '检', '验', '检', '测', '体', '系', '，', '加', '强', '检', '验', '检', '测', '公', '共', '服', '务', '平', '台', '建', '设', '。'])\n"
     ]
    }
   ],
   "source": [
    "lines=_read_csv(\"../data/csc/ecspell/test_odw.txt\")\n",
    "print(lines[0])"
   ]
  },
  {
   "cell_type": "code",
   "execution_count": 44,
   "metadata": {},
   "outputs": [
    {
     "name": "stdout",
     "output_type": "stream",
     "text": [
      "123\n"
     ]
    }
   ],
   "source": [
    "num=0\n",
    "for line in lines:\n",
    "    if len(line[0])>54:\n",
    "        num+=1\n",
    "print(num)"
   ]
  },
  {
   "cell_type": "code",
   "execution_count": 45,
   "metadata": {},
   "outputs": [],
   "source": [
    "def tuple2dict(example):\n",
    "    src = example[0]\n",
    "    trg = example[1]\n",
    "    errors = []\n",
    "    assert len(src)==len(trg)\n",
    "    for st,tt in zip(src,trg):\n",
    "        if st!=tt:\n",
    "            errors+=[(st,tt)]\n",
    "    return {\"src\":src, \"trg\":trg, \"error\":errors}\n"
   ]
  },
  {
   "cell_type": "code",
   "execution_count": 46,
   "metadata": {},
   "outputs": [
    {
     "name": "stdout",
     "output_type": "stream",
     "text": [
      "{'src': ['完', '善', '检', '剑', '检', '测', '体', '系', '，', '加', '强', '检', '验', '检', '测', '公', '共', '服', '务', '平', '台', '建', '设', '。'], 'trg': ['完', '善', '检', '验', '检', '测', '体', '系', '，', '加', '强', '检', '验', '检', '测', '公', '共', '服', '务', '平', '台', '建', '设', '。'], 'error': [('剑', '验')]}\n"
     ]
    }
   ],
   "source": [
    "dict=tuple2dict(lines[0])\n",
    "print(dict)"
   ]
  },
  {
   "cell_type": "code",
   "execution_count": 47,
   "metadata": {},
   "outputs": [
    {
     "data": {
      "text/plain": [
       "1"
      ]
     },
     "execution_count": 47,
     "metadata": {},
     "output_type": "execute_result"
    }
   ],
   "source": [
    "len(dict[\"error\"])"
   ]
  },
  {
   "cell_type": "code",
   "execution_count": 48,
   "metadata": {},
   "outputs": [],
   "source": [
    "def lines2dicts(lines):\n",
    "    dicts=[]\n",
    "    for line in lines:\n",
    "        dicts.append(tuple2dict(line))\n",
    "    return dicts"
   ]
  },
  {
   "cell_type": "code",
   "execution_count": 49,
   "metadata": {},
   "outputs": [
    {
     "name": "stdout",
     "output_type": "stream",
     "text": [
      "500\n",
      "{'src': ['陕', '西', '省', '铜', '川', '市', '耀', '州', '区', '石', '柱', '镇', '马', '咀', '村', '党', '总', '支', '书', '记', '、', '村', '委', '会', '主', '任'], 'trg': ['陕', '西', '省', '铜', '川', '市', '耀', '州', '区', '石', '柱', '镇', '马', '咀', '村', '党', '总', '支', '书', '记', '、', '村', '委', '会', '主', '任'], 'error': []}\n"
     ]
    }
   ],
   "source": [
    "dicts=lines2dicts(lines)\n",
    "print(len(dicts))\n",
    "print(dicts[110])"
   ]
  },
  {
   "cell_type": "code",
   "execution_count": 50,
   "metadata": {},
   "outputs": [],
   "source": [
    "def dicts2errors(dicts):\n",
    "    errors=[]\n",
    "    for dict in dicts:\n",
    "        for error in dict[\"error\"]:\n",
    "            if error not in errors:\n",
    "                errors.append(error)\n",
    "    return errors"
   ]
  },
  {
   "cell_type": "code",
   "execution_count": 51,
   "metadata": {},
   "outputs": [
    {
     "name": "stdout",
     "output_type": "stream",
     "text": [
      "372\n"
     ]
    },
    {
     "data": {
      "text/plain": [
       "[('剑', '验'),\n",
       " ('贱', '兼'),\n",
       " ('人', '任'),\n",
       " ('症', '政'),\n",
       " ('财', '才'),\n",
       " ('短', '段'),\n",
       " ('至', '制'),\n",
       " ('社', '设'),\n",
       " ('厨', '除'),\n",
       " ('私', '司')]"
      ]
     },
     "execution_count": 51,
     "metadata": {},
     "output_type": "execute_result"
    }
   ],
   "source": [
    "errors=dicts2errors(dicts)\n",
    "print(len(errors))\n",
    "errors[:10]"
   ]
  },
  {
   "cell_type": "code",
   "execution_count": 52,
   "metadata": {},
   "outputs": [],
   "source": [
    "def errorsExtract(input_file):\n",
    "    lines=_read_csv(input_file)\n",
    "    dicts = lines2dicts(lines)\n",
    "    errors = dicts2errors(dicts)\n",
    "    return errors\n",
    "    "
   ]
  },
  {
   "cell_type": "code",
   "execution_count": 53,
   "metadata": {},
   "outputs": [],
   "source": [
    "trainLawErrors = errorsExtract(\"../data/csc/ecspell/train_law.txt\")"
   ]
  },
  {
   "cell_type": "code",
   "execution_count": 54,
   "metadata": {},
   "outputs": [
    {
     "name": "stdout",
     "output_type": "stream",
     "text": [
      "1049\n",
      "[('制', '治'), ('物', '务'), ('线', '限'), ('需', '须'), ('吐', '土'), ('券', '权'), ('是', '时'), ('使', '适'), ('练', '念'), ('祖', '主'), ('行', '刑'), ('拆', '诉'), ('食', '适'), ('室', '是'), ('裂', '列'), ('去', '法'), ('向', '项'), ('共', '公'), ('捡', '检'), ('兖', '充'), ('杳', '查'), ('牲', '性'), ('再', '在'), ('婶', '审'), ('发', '法'), ('源', '院'), ('挺', '庭'), ('丛', '从'), ('末', '未'), ('休', '体'), ('根', '限'), ('旨', '指'), ('广', '厂'), ('愿', '原'), ('付', '符'), ('名', '民'), ('证', '正'), ('重', '冲'), ('涂', '突'), ('武', '务'), ('厂', '常'), ('克', '可'), ('种', '中'), ('使', '是'), ('管', '官'), ('剔', '提'), ('除', '出'), ('全', '权'), ('纸', '支'), ('怼', '对'), ('桑', '商'), ('补', '不'), ('悟', '误'), ('意', '议'), ('白', '的'), ('消', '销'), ('大', '小'), ('字', '学'), ('荡', '当'), ('订', '定'), ('题', '提'), ('疑', '以'), ('整', '政'), ('兹', '知'), ('吹', '催'), ('觉', '决'), ('元', '原'), ('神', '审'), ('趁', '程'), ('虚', '序'), ('力', '理'), ('津', '律'), ('竞', '经'), ('技', '济'), ('苑', '院'), ('缓', '援'), ('安', '案'), ('检', '件'), ('冠', '官'), ('铁', '秩'), ('正', '证'), ('附', '符'), ('采', '裁'), ('掘', '决'), ('圈', '权'), ('铲', '产'), ('力', '利'), ('妾', '接'), ('申', '审'), ('匍', '辅'), ('拟', '以'), ('旬', '询'), ('不', '补'), ('促', '除'), ('档', '当'), ('禾', '利'), ('帝', '缔'), ('坏', '环'), ('气', '启'), ('深', '审'), ('次', '资'), ('又', '权'), ('檫', '察'), ('间', '简'), ('肠', '偿'), ('引', '列'), ('尼', '民'), ('测', '则'), ('质', '治'), ('放', '方'), ('虐', '略'), ('吞', '否'), ('泾', '经'), ('韦', '书'), ('园', '员'), ('接', '届'), ('寝', '侵'), ('饭', '犯'), ('增', '证'), ('鸾', '原'), ('折', '制'), ('物', '无'), ('据', '拘'), ('一', '议'), ('形', '刑'), ('丸', '执'), ('酥', '诉'), ('松', '讼'), ('签', '牵'), ('承', '成'), ('狱', '域'), ('顶', '定'), ('花', '法'), ('狗', '拘'), ('王', '全'), ('围', '维'), ('舌', '适'), ('绝', '拘'), ('侍', '持'), ('巴', '不'), ('晶', '品'), ('见', '规'), ('里', '理'), ('完', '院'), ('证', '政'), ('干', '于'), ('万', '方'), ('际', '示'), ('官', '管'), ('聚', '具'), ('懂', '董'), ('材', '裁'), ('圆', '员'), ('甭', '不'), ('百', '由'), ('征', '证'), ('过', '国'), ('罚', '法'), ('跪', '规'), ('汁', '计'), ('员', '院'), ('盼', '判'), ('轩', '宣'), ('至', '知'), ('又', '有'), ('狠', '很'), ('有', '由'), ('午', '务'), ('妥', '委'), ('伊', '意'), ('涌', '通'), ('志', '治'), ('经', '进'), ('煮', '主'), ('药', '要'), ('混', '婚'), ('型', '性'), ('利', '力'), ('中', '重'), ('俱', '具'), ('尊', '遵'), ('沈', '审'), ('做', '作'), ('例', '列'), ('蹄', '提'), ('短', '段'), ('恭', '共'), ('懈', '解'), ('郭', '国'), ('嘉', '家'), ('宗', '中'), ('冶', '治'), ('溯', '诉'), ('常', '党'), ('渴', '可'), ('焗', '局'), ('肖', '效'), ('心', '必'), ('登', '等'), ('查', '察'), ('同', '通'), ('志', '知'), ('除', '处'), ('法', '罚'), ('原', '援'), ('攸', '有'), ('及', '级'), ('菅', '管'), ('间', '同'), ('付', '府'), ('社', '涉'), ('幂', '密'), ('且', '切'), ('民', '明'), ('珍', '整'), ('幻', '环'), ('婊', '表'), ('包', '保'), ('绍', '召'), ('夭', '托'), ('叔', '述'), ('喂', '未'), ('人', '认'), ('征', '政'), ('服', '府'), ('木', '术'), ('质', '职'), ('未', '违'), ('人', '入'), ('畅', '常'), ('选', '宣'), ('稿', '告'), ('毒', '度'), ('油', '有'), ('援', '院'), ('寸', '过'), ('医', '一'), ('才', '裁'), ('师', '事'), ('昕', '听'), ('缺', '确'), ('敌', '地'), ('甬', '通'), ('属', '嘱'), ('脆', '最'), ('擦', '察'), ('者', '直'), ('垢', '后'), ('寺', '持'), ('程', '成'), ('丽', '立'), ('错', '措'), ('置', '职'), ('那', '哪'), ('巨', '具'), ('竟', '竞'), ('瓶', '品'), ('页', '项'), ('戴', '代'), ('搞', '高'), ('诀', '决'), ('校', '效'), ('队', '对'), ('心', '刑'), ('却', '确'), ('盐', '沿'), ('连', '良'), ('汇', '会'), ('圆', '院'), ('到', '导'), ('意', '义'), ('案', '安'), ('叫', '交'), ('死', '私'), ('锐', '说'), ('右', '有'), ('知', '执'), ('拳', '全'), ('对', '兑'), ('成', '承'), ('效', '销'), ('权', '券'), ('贞', '侦'), ('腐', '妇'), ('禾', '程'), ('形', '行'), ('归', '规'), ('帆', '范'), ('延', '庭'), ('记', '继'), ('肠', '常'), ('胃', '委'), ('入', '人'), ('到', '道'), ('得', '德'), ('同', '司'), ('茬', '在'), ('和', '合'), ('力', '为'), ('冠', '关'), ('寓', '于'), ('丙', '内'), ('与', '于'), ('搞', '告'), ('讼', '公'), ('政', '证'), ('型', '行'), ('单', '当'), ('披', '被'), ('师', '施'), ('数', '诉'), ('帅', '师'), ('八', '人'), ('祭', '察'), ('由', '届'), ('止', '正'), ('冢', '家'), ('载', '在'), ('为', '伪'), ('比', '币'), ('龟', '归'), ('金', '全'), ('馁', '内'), ('伤', '上'), ('之', '至'), ('铳', '统'), ('访', '方'), ('视', '式'), ('斯', '是'), ('页', '依'), ('土', '业'), ('脏', '张'), ('伟', '围'), ('祖', '族'), ('执', '职'), ('当', '单'), ('服', '复'), ('役', '议'), ('衣', '依'), ('白', '自'), ('真', '具'), ('想', '宪'), ('仙', '宪'), ('长', '常'), ('尾', '委'), ('种', '仲'), ('菜', '裁'), ('活', '货'), ('私', '死'), ('微', '伪'), ('藻', '造'), ('赢', '应'), ('祖', '组'), ('吊', '常'), ('台', '始'), ('际', '籍'), ('枝', '支'), ('藉', '籍'), ('排', '派'), ('洪', '法'), ('钡', '规'), ('呈', '成'), ('传', '转'), ('亚', '业'), ('管', '馆'), ('中', '仲'), ('玥', '约'), ('言', '延'), ('辞', '迟'), ('摄', '设'), ('制', '置'), ('曾', '增'), ('之', '执'), ('术', '述'), ('怵', '述'), ('犬', '突'), ('步', '不'), ('线', '宪'), ('在', '再'), ('身', '审'), ('刀', '盗'), ('郊', '效'), ('亨', '产'), ('商', '上'), ('机', '级'), ('囸', '国'), ('仍', '犯'), ('位', '应'), ('居', '据'), ('呼', '符'), ('角', '确'), ('直', '职'), ('拳', '权'), ('缘', '院'), ('乘', '程'), ('亲', '侵'), ('姓', '行'), ('郑', '政'), ('己', '已'), ('半', '般'), ('指', '制'), ('目', '日'), ('匀', '均'), ('治', '职'), ('党', '常'), ('地', '缔'), ('界', '结'), ('古', '故'), ('义', '意'), ('暇', '辖'), ('徐', '许'), ('茶', '查'), ('征', '行'), ('渎', '续'), ('新', '型'), ('式', '事'), ('阀', '法'), ('英', '应'), ('琴', '情'), ('背', '北'), ('鳍', '齐'), ('荒', '皇'), ('桶', '通'), ('鞋', '协'), ('上', '商'), ('王', '工'), ('巨', '举'), ('星', '行'), ('霞', '下'), ('只', '制'), ('读', '度'), ('出', '除'), ('陆', '录'), ('茵', '音'), ('色', '社'), ('或', '货'), ('贯', '惯'), ('带', '贷'), ('宽', '款'), ('低', '抵'), ('压', '押'), ('莅', '位'), ('涉', '步'), ('付', '妇'), ('管', '关'), ('放', '范'), ('成', '程'), ('殓', '检'), ('庄', '转'), ('哆', '多'), ('障', '章'), ('读', '卖'), ('悬', '选'), ('治', '制'), ('交', '教'), ('所', '唆'), ('她', '他'), ('地', '第'), ('泉', '原'), ('盘', '判'), ('争', '正'), ('符', '服'), ('八', '公'), ('刑', '性'), ('忍', '人'), ('术', '数'), ('已', '一'), ('刀', '分'), ('开', '刑'), ('户', '护'), ('结', '节'), ('晶', '经'), ('莹', '营'), ('机', '记'), ('甲', '押'), ('私', '司'), ('路', '录'), ('赢', '英'), ('放', '仿'), ('小', '效'), ('现', '险'), ('熊', '能'), ('二', '一'), ('早', '草'), ('旦', '但'), ('交', '叫'), ('锯', '据'), ('竹', '主'), ('费', '会'), ('拯', '证'), ('则', '责'), ('月', '越'), ('憋', '别'), ('郁', '有'), ('径', '经'), ('籍', '际'), ('锐', '税'), ('悬', '县'), ('交', '缴'), ('性', '行'), ('场', '常'), ('刑', '行'), ('伟', '委'), ('宿', '诉'), ('冰', '并'), ('里', '力'), ('青', '情'), ('昱', '是'), ('职', '联'), ('播', '剥'), ('蜷', '券'), ('死', '司'), ('醉', '粹'), ('清', '请'), ('座', '作'), ('位', '为'), ('路', '律'), ('龙', '容'), ('咧', '列'), ('郑', '正'), ('斥', '诉'), ('设', '没'), ('精', '经'), ('折', '拆'), ('直', '执'), ('边', '辩'), ('组', '組'), ('制', '至'), ('典', '点'), ('移', '依'), ('乌', '务'), ('不', '步'), ('转', '专'), ('丈', '支'), ('犮', '发'), ('纣', '付'), ('几', '级'), ('令', '另'), ('视', '事'), ('予', '序'), ('报', '服'), ('结', '机'), ('准', '军'), ('几', '机'), ('罐', '关'), ('威', '违'), ('单', '但'), ('很', '限'), ('明', '民'), ('远', '员'), ('卖', '续'), ('菲', '非'), ('灰', '会'), ('猴', '候'), ('漂', '票'), ('仓', '创'), ('日', '口'), ('提', '体'), ('膝', '系'), ('深', '申'), ('情', '请'), ('载', '裁'), ('仿', '方'), ('或', '式'), ('事', '是'), ('教', '交'), ('艮', '民'), ('害', '辖'), ('焗', '具'), ('亍', '行'), ('附', '复'), ('毕', '必'), ('至', '秩'), ('章', '障'), ('贝', '费'), ('笑', '消'), ('永', '用'), ('曾', '赠'), ('淮', '准'), ('微', '违'), ('沫', '没'), ('身', '申'), ('贝', '员'), ('齐', '济'), ('至', '致'), ('激', '缴'), ('正', '政'), ('迷', '违'), ('奕', '变'), ('辻', '过'), ('段', '股'), ('劵', '券'), ('备', '被'), ('兔', '免'), ('嬴', '应'), ('租', '组'), ('娶', '取'), ('淀', '定'), ('兼', '嫌'), ('立', '历'), ('式', '史'), ('踢', '提'), ('办', '协'), ('之', '制'), ('载', '债'), ('宁', '令'), ('讣', '计'), ('倮', '保'), ('攻', '公'), ('丝', '司'), ('浸', '侵'), ('嘴', '罪'), ('菜', '采'), ('狗', '购'), ('戈', '代'), ('彦', '产'), ('变', '辩'), ('㣔', '行'), ('不', '下'), ('肖', '销'), ('肩', '监'), ('积', '机'), ('垢', '构'), ('兴', '行'), ('伟', '为'), ('初', '出'), ('监', '检'), ('贵', '规'), ('拿', '哪'), ('冷', '人'), ('土', '上'), ('本', '体'), ('韦', '伪'), ('君', '军'), ('威', '委'), ('惜', '系'), ('袁', '原'), ('泽', '则'), ('谢', '协'), ('时', '事'), ('残', '参'), ('毒', '赌'), ('胁', '协'), ('仪', '议'), ('音', '意'), ('蟀', '率'), ('钟', '中'), ('骰', '投'), ('子', '资'), ('珠', '殊'), ('直', '自'), ('邮', '由'), ('瘦', '受'), ('住', '主'), ('床', '船'), ('花', '发'), ('察', '查'), ('罚', '发'), ('站', '展'), ('异', '意'), ('议', '义'), ('止', '企'), ('公', '讼'), ('木', '本'), ('受', '授'), ('互', '附'), ('指', '执'), ('辨', '辩'), ('择', '绎'), ('镜', '境'), ('跌', '秩'), ('苏', '诉'), ('见', '间'), ('不', '部'), ('对', '队'), ('传', '专'), ('家', '嫁'), ('飘', '票'), ('债', '责'), ('他', '地'), ('认', '人'), ('荐', '存'), ('闵', '民'), ('伪', '委'), ('历', '利'), ('通', '同'), ('额', '题'), ('平', '评'), ('雀', '确'), ('示', '际'), ('擦', '查'), ('为', '未'), ('只', '直'), ('先', '选'), ('板', '半'), ('材', '才'), ('皖', '院'), ('冬', '条'), ('百', '有'), ('刹', '利'), ('荣', '容'), ('亚', '立'), ('太', '大'), ('没', '设'), ('挥', '回'), ('笔', '避'), ('严', '产'), ('贡', '质'), ('节', '解'), ('球', '求'), ('周', '调'), ('闰', '间'), ('橙', '检'), ('拮', '抗'), ('陀', '院'), ('渗', '深'), ('钠', '纳'), ('背', '被'), ('寸', '导'), ('大', '达'), ('道', '到'), ('仁', '人'), ('反', '犯'), ('忐', '上'), ('撮', '最'), ('殖', '值'), ('读', '赌'), ('粽', '终'), ('子', '止'), ('鲁', '律'), ('叛', '判'), ('每', '美'), ('笑', '效'), ('大', '人'), ('松', '公'), ('宝', '保'), ('泉', '全'), ('犯', '范'), ('挫', '措'), ('朱', '主'), ('锅', '国'), ('架', '家'), ('轩', '选'), ('辟', '避'), ('检', '签'), ('鸡', '机'), ('机', '计'), ('请', '情'), ('白', '舶'), ('市', '是'), ('暗', '案'), ('云', '运'), ('份', '分'), ('中', '种'), ('树', '数'), ('恪', '格'), ('材', '财'), ('彩', '财'), ('飞', '非'), ('妻', '期'), ('报', '包'), ('半', '判'), ('币', '避'), ('吏', '使'), ('理', '利'), ('琴', '倾'), ('箫', '销'), ('句', '具'), ('颂', '讼'), ('欠', '签'), ('账', '章'), ('碱', '监'), ('度', '督'), ('财', '裁'), ('砝', '法'), ('充', '统'), ('健', '建'), ('规', '归'), ('倭', '我'), ('羽', '于'), ('总', '仲'), ('柿', '市'), ('盛', '成'), ('整', '证'), ('鲜', '险'), ('首', '道'), ('骗', '片'), ('房', '方'), ('为', '力'), ('任', '认'), ('已', '以'), ('澈', '撤'), ('编', '变'), ('专', '转'), ('者', '著'), ('责', '债'), ('前', '牵'), ('联', '连'), ('理', '历'), ('事', '史'), ('搜', '收'), ('车', '撤'), ('削', '销'), ('酿', '量'), ('城', '成'), ('复', '付'), ('险', '检'), ('才', '采'), ('基', '记'), ('坑', '抗'), ('施', '司'), ('纸', '止'), ('司', '可'), ('朋', '明'), ('蚣', '讼'), ('井', '进'), ('正', '争'), ('义', '议'), ('拳', '券'), ('呸', '否'), ('惯', '管'), ('例', '理'), ('组', '阻'), ('可', '何'), ('舍', '涉'), ('米', '密'), ('路', '人'), ('毕', '避'), ('白', '百'), ('顾', '故'), ('范', '犯'), ('醉', '罪'), ('尤', '优'), ('绿', '律'), ('佘', '余'), ('德', '得'), ('是', '事'), ('足', '是'), ('杈', '权'), ('疏', '属'), ('宅', '债'), ('犬', '权'), ('狮', '事'), ('智', '制'), ('十', '实'), ('珐', '法'), ('祛', '法'), ('旋', '选'), ('乏', '法'), ('猎', '力'), ('据', '决'), ('库', '括'), ('曳', '拽'), ('真', '证'), ('是', '式'), ('心', '信'), ('收', '受'), ('合', '和'), ('孢', '包'), ('跟', '根'), ('龟', '规'), ('重', '仲'), ('种', '重'), ('粒', '力'), ('集', '继'), ('晴', '清'), ('兑', '说'), ('宪', '选'), ('佛', '负'), ('乐', '二'), ('声', '审'), ('资', '自'), ('助', '主'), ('雪', '削'), ('见', '减'), ('家', '加'), ('请', '精'), ('龚', '垄'), ('亏', '污'), ('每', '海'), ('禁', '境'), ('兹', '织'), ('林', '龄'), ('私', '适'), ('堤', '提'), ('尝', '偿'), ('了', '子'), ('关', '天'), ('涤', '条'), ('出', '处'), ('发', '罚'), ('杆', '刊'), ('处', '触'), ('心', '性'), ('智', '质'), ('场', '偿'), ('已', '依'), ('陈', '成'), ('落', '罗'), ('脏', '赃'), ('污', '物'), ('度', '渡'), ('原', '愿'), ('日', '目'), ('茴', '回'), ('刁', '习'), ('符', '付'), ('抿', '民'), ('再', '债'), ('无', '务'), ('单', '担'), ('中', '冲'), ('埋', '理'), ('越', '约'), ('阳', '洋'), ('漠', '模'), ('庄', '装'), ('信', '性'), ('杜', '度'), ('可', '阿'), ('主', '工'), ('十', '是'), ('任', '人'), ('达', '大'), ('狩', '守'), ('带', '滞'), ('纪', '级'), ('佑', '有'), ('刑', '形'), ('寸', '村'), ('房', '放'), ('先', '宪'), ('旼', '文'), ('活', '或'), ('着', '者'), ('右', '由'), ('晋', '近'), ('期', '其'), ('其', '期'), ('徳', '德'), ('华', '法'), ('贝', '则'), ('准', '维'), ('古', '固'), ('仿', '防'), ('聿', '事'), ('吋', '对'), ('止', '业'), ('並', '益'), ('很', '银'), ('芒', '亡'), ('臵', '致'), ('劣', '务'), ('飞', '费'), ('乙', '一'), ('侧', '则'), ('邪', '协'), ('土', '立'), ('布', '不'), ('违', '伪'), ('亊', '事'), ('今', '令'), ('氶', '水'), ('话', '化'), ('费', '肥'), ('加', '假'), ('建', '健'), ('冉', '再'), ('则', '侧'), ('清', '情'), ('检', '险'), ('为', '违'), ('些', '席'), ('私', '实'), ('河', '合'), ('童', '同'), ('安', '按'), ('观', '关'), ('步', '涉'), ('被', '破'), ('裆', '当'), ('蜜', '密'), ('请', '侵'), ('皿', '益'), ('荐', '在'), ('超', '起'), ('衍', '行'), ('磨', '没'), ('绝', '决'), ('阴', '音'), ('冈', '网'), ('迦', '加'), ('广', '产'), ('智', '职'), ('食', '事'), ('吾', '语'), ('华', '罚'), ('乃', '及'), ('按', '案'), ('焦', '教'), ('挫', '错'), ('么', '公'), ('走', '是'), ('择', '译'), ('含', '汉'), ('专', '传'), ('成', '称'), ('锁', '所'), ('数', '束'), ('地', '抵'), ('私', '施'), ('五', '武'), ('实', '事'), ('呐', '纳'), ('字', '自'), ('吓', '下'), ('管', '惯'), ('理', '例'), ('改', '该'), ('供', '公'), ('阻', '组'), ('止', '织'), ('只', '织'), ('供', '共'), ('亨', '享'), ('局', '据'), ('元', '员'), ('寄', '给'), ('舞', '务'), ('僡', '德'), ('敕', '整'), ('负', '府'), ('苯', '本'), ('胺', '案'), ('请', '清'), ('劝', '券'), ('闷', '门'), ('骡', '罗'), ('设', '社'), ('干', '刊'), ('厉', '利'), ('呆', '保'), ('建', '兼'), ('材', '采'), ('芬', '劳'), ('母', '每'), ('刷', '制'), ('吴', '无'), ('琪', '期')]\n"
     ]
    }
   ],
   "source": [
    "print(len(trainLawErrors))\n",
    "print(trainLawErrors)"
   ]
  },
  {
   "cell_type": "code",
   "execution_count": 55,
   "metadata": {},
   "outputs": [],
   "source": [
    "trainmedErrors = errorsExtract(\"../data/csc/ecspell/train_med.txt\")\n",
    "trainodwErrors = errorsExtract(\"../data/csc/ecspell/train_odw.txt\")"
   ]
  },
  {
   "cell_type": "code",
   "execution_count": 56,
   "metadata": {},
   "outputs": [],
   "source": [
    "testlawErrors = errorsExtract(\"../data/csc/ecspell/test_law.txt\")"
   ]
  },
  {
   "cell_type": "code",
   "execution_count": 57,
   "metadata": {},
   "outputs": [
    {
     "name": "stdout",
     "output_type": "stream",
     "text": [
      "336\n"
     ]
    },
    {
     "data": {
      "text/plain": [
       "163"
      ]
     },
     "execution_count": 57,
     "metadata": {},
     "output_type": "execute_result"
    }
   ],
   "source": [
    "print(len(testlawErrors))\n",
    "cnt = 0\n",
    "for error in testlawErrors:\n",
    "    if error in trainLawErrors:\n",
    "        cnt+=1\n",
    "cnt"
   ]
  },
  {
   "cell_type": "code",
   "execution_count": 58,
   "metadata": {},
   "outputs": [
    {
     "name": "stdout",
     "output_type": "stream",
     "text": [
      "1605\n",
      "1195\n"
     ]
    }
   ],
   "source": [
    "print(len(trainmedErrors))\n",
    "print(len(trainodwErrors))"
   ]
  },
  {
   "cell_type": "code",
   "execution_count": 59,
   "metadata": {},
   "outputs": [],
   "source": [
    "def write(lines,output_file):\n",
    "    with open(output_file,'w',encoding='utf-8') as f:\n",
    "        for line in lines:\n",
    "            f.write(\" \".join(line[0])+'\\t'+\" \".join(line[1])+'\\n')\n",
    "    return "
   ]
  },
  {
   "cell_type": "code",
   "execution_count": 60,
   "metadata": {},
   "outputs": [],
   "source": [
    "def include(A,B):\n",
    "    for item in B:\n",
    "        if item not in A:\n",
    "            return False\n",
    "    return True"
   ]
  },
  {
   "cell_type": "code",
   "execution_count": 61,
   "metadata": {},
   "outputs": [],
   "source": [
    "def overlap(A,B):\n",
    "    for item in B:\n",
    "        if item in A:\n",
    "            return True\n",
    "    return False"
   ]
  },
  {
   "cell_type": "code",
   "execution_count": 62,
   "metadata": {},
   "outputs": [
    {
     "data": {
      "text/plain": [
       "False"
      ]
     },
     "execution_count": 62,
     "metadata": {},
     "output_type": "execute_result"
    }
   ],
   "source": [
    "include([1,2,3],[1,0])"
   ]
  },
  {
   "cell_type": "code",
   "execution_count": 63,
   "metadata": {},
   "outputs": [
    {
     "data": {
      "text/plain": [
       "True"
      ]
     },
     "execution_count": 63,
     "metadata": {},
     "output_type": "execute_result"
    }
   ],
   "source": [
    "overlap([1,2,3],[1,0])"
   ]
  },
  {
   "cell_type": "code",
   "execution_count": 64,
   "metadata": {},
   "outputs": [],
   "source": [
    "def examplesDecomposition(input_file,output_file_inc,output_file_exc,output_file_non,output_file_multi,errors):\n",
    "    lines = _read_csv(input_file)\n",
    "    dicts = lines2dicts(lines)\n",
    "    inc_examples=[]\n",
    "    exc_examples=[]\n",
    "    non_examples=[]\n",
    "    multi_examples=[]\n",
    "    for line,dict in zip(lines,dicts):\n",
    "        if len(dict[\"error\"])==0:\n",
    "            non_examples.append(line)\n",
    "        elif len(dict[\"error\"])>1:\n",
    "            multi_examples.append(line)\n",
    "        elif include(errors,dict[\"error\"]):\n",
    "            inc_examples.append(line)\n",
    "        else:\n",
    "            exc_examples.append(line)\n",
    "    write(inc_examples,output_file_inc)\n",
    "    write(exc_examples,output_file_exc)\n",
    "    write(non_examples,output_file_non)\n",
    "    write(multi_examples,output_file_multi)"
   ]
  },
  {
   "cell_type": "code",
   "execution_count": 65,
   "metadata": {},
   "outputs": [],
   "source": [
    "examplesDecomposition(input_file=\"../data/csc/ecspell/test_odw.txt\",output_file_inc=\"../data/csc/ecspell/test_odw_inc.txt\",\\\n",
    "                      output_file_exc=\"../data/csc/ecspell/test_odw_exc.txt\",\\\n",
    "                        output_file_non = \"../data/csc/ecspell/test_odw_non.txt\",output_file_multi = \"../data/csc/ecspell/test_odw_multi.txt\",\\\n",
    "                        errors=trainLawErrors)"
   ]
  },
  {
   "cell_type": "code",
   "execution_count": 163,
   "metadata": {},
   "outputs": [],
   "source": [
    "import random\n",
    "def negExamplesSampling(input_file,output_file,num_neg):\n",
    "    lines = _read_csv(input_file)\n",
    "    dicts = lines2dicts(lines)\n",
    "    new_neg_examples = []\n",
    "    neg_examples=[]\n",
    "    pos_examples=[]\n",
    "    new_dataset = []\n",
    "    for line,dict in zip(lines,dicts):\n",
    "        if len(dict[\"error\"])==0:\n",
    "            neg_examples.append(line)\n",
    "        else:\n",
    "            pos_examples.append(line)\n",
    "    print(len(pos_examples))\n",
    "    if num_neg<len(neg_examples):\n",
    "        neg_sampling = random.sample(neg_examples,num_neg)\n",
    "        new_dataset = neg_sampling + pos_examples\n",
    "        write(new_dataset,output_file)\n",
    "        print(len(new_dataset))\n",
    "    elif num_neg>len(neg_examples) and num_neg<=2*len(neg_examples):\n",
    "        num_new_neg = num_neg-len(neg_examples)\n",
    "        neg_sampling = random.sample(neg_examples,num_new_neg)\n",
    "        new_dataset = lines + neg_sampling\n",
    "        write(new_dataset,output_file)\n",
    "        print(len(new_dataset))\n",
    "    else:\n",
    "        return\n",
    "\n",
    "    "
   ]
  },
  {
   "cell_type": "code",
   "execution_count": 164,
   "metadata": {},
   "outputs": [
    {
     "name": "stdout",
     "output_type": "stream",
     "text": [
      "255\n",
      "305\n"
     ]
    }
   ],
   "source": [
    "negExamplesSampling(input_file=\"../data/csc/ecspell/test_law.txt\",output_file=\"../data/csc/ecspell/test_law_50.txt\",num_neg= 50)"
   ]
  },
  {
   "cell_type": "code",
   "execution_count": 59,
   "metadata": {},
   "outputs": [],
   "source": [
    "lines = _read_csv(\"../data/csc/ecspell/test_law_50.txt\")"
   ]
  },
  {
   "cell_type": "code",
   "execution_count": 60,
   "metadata": {},
   "outputs": [
    {
     "data": {
      "text/plain": [
       "305"
      ]
     },
     "execution_count": 60,
     "metadata": {},
     "output_type": "execute_result"
    }
   ],
   "source": [
    "len(lines)"
   ]
  },
  {
   "cell_type": "code",
   "execution_count": 165,
   "metadata": {},
   "outputs": [
    {
     "name": "stdout",
     "output_type": "stream",
     "text": [
      "255\n",
      "355\n",
      "255\n",
      "405\n",
      "255\n",
      "455\n"
     ]
    }
   ],
   "source": [
    "negExamplesSampling(input_file=\"../data/csc/ecspell/test_law.txt\",output_file=\"../data/csc/ecspell/test_law_100.txt\",num_neg= 100)\n",
    "negExamplesSampling(input_file=\"../data/csc/ecspell/test_law.txt\",output_file=\"../data/csc/ecspell/test_law_150.txt\",num_neg= 150)\n",
    "negExamplesSampling(input_file=\"../data/csc/ecspell/test_law.txt\",output_file=\"../data/csc/ecspell/test_law_200.txt\",num_neg= 200)"
   ]
  },
  {
   "cell_type": "code",
   "execution_count": 166,
   "metadata": {},
   "outputs": [
    {
     "name": "stdout",
     "output_type": "stream",
     "text": [
      "255\n",
      "255\n",
      "655\n",
      "255\n",
      "555\n"
     ]
    }
   ],
   "source": [
    "negExamplesSampling(input_file=\"../data/csc/ecspell/test_law.txt\",output_file=\"../data/csc/ecspell/test_law_500.txt\",num_neg= 500)\n",
    "negExamplesSampling(input_file=\"../data/csc/ecspell/test_law.txt\",output_file=\"../data/csc/ecspell/test_law_400.txt\",num_neg= 400)\n",
    "negExamplesSampling(input_file=\"../data/csc/ecspell/test_law.txt\",output_file=\"../data/csc/ecspell/test_law_300.txt\",num_neg= 300)"
   ]
  },
  {
   "cell_type": "markdown",
   "metadata": {},
   "source": [
    "### over-correction and false postive rate"
   ]
  },
  {
   "cell_type": "code",
   "execution_count": 4,
   "metadata": {},
   "outputs": [],
   "source": [
    "def p_calculate(ratio,fpr,r,wpr):\n",
    "    fpr/=100\n",
    "    r/=100\n",
    "    wpr/=100\n",
    "    p =  1/(1+ratio*(fpr/r)+(wpr/r))\n",
    "    return p*100"
   ]
  },
  {
   "cell_type": "code",
   "execution_count": 5,
   "metadata": {},
   "outputs": [],
   "source": [
    "def f1_calculate(p,r):\n",
    "    return 2*p*r/(p+r)"
   ]
  },
  {
   "cell_type": "code",
   "execution_count": 6,
   "metadata": {},
   "outputs": [],
   "source": [
    "def ratio_calculate (p,fpr,r,wpr):\n",
    "    p/=100\n",
    "    fpr/=100\n",
    "    r/=100\n",
    "    wpr/=100\n",
    "    ratio = (1.0-p-p*(wpr/r))*r/(fpr*p)\n",
    "    return ratio"
   ]
  },
  {
   "cell_type": "code",
   "execution_count": 7,
   "metadata": {},
   "outputs": [
    {
     "data": {
      "text/plain": [
       "0.957586178662082"
      ]
     },
     "execution_count": 7,
     "metadata": {},
     "output_type": "execute_result"
    }
   ],
   "source": [
    "ratio_calculate(p=41.4,fpr=11.8,r=34.9,wpr=38.1)"
   ]
  },
  {
   "cell_type": "code",
   "execution_count": 8,
   "metadata": {},
   "outputs": [
    {
     "data": {
      "text/plain": [
       "0.9607843137254902"
      ]
     },
     "execution_count": 8,
     "metadata": {},
     "output_type": "execute_result"
    }
   ],
   "source": [
    "245/255"
   ]
  },
  {
   "cell_type": "markdown",
   "metadata": {},
   "source": [
    "### fpr"
   ]
  },
  {
   "cell_type": "code",
   "execution_count": 9,
   "metadata": {},
   "outputs": [],
   "source": [
    "fpr=16.4\n",
    "r=68.2\n",
    "wpr=21.0"
   ]
  },
  {
   "cell_type": "code",
   "execution_count": 10,
   "metadata": {},
   "outputs": [],
   "source": [
    "import numpy as np\n",
    "ratios = np.arange(0,10,0.01)\n",
    "p_list = np.array([p_calculate(ratio,fpr,r,wpr) for ratio in ratios])\n",
    "f1_list = np.array([f1_calculate(p,r) for p in p_list])"
   ]
  },
  {
   "cell_type": "code",
   "execution_count": 11,
   "metadata": {},
   "outputs": [],
   "source": [
    "fpr = 6.9\n",
    "r = 87.8\n",
    "wpr = 11.0\n",
    "ratios = np.arange(0,10,0.01)\n",
    "p_list_lm = np.array([p_calculate(ratio,fpr,r,wpr) for ratio in ratios])\n",
    "f1_list_lm = np.array([f1_calculate(p,r) for p in p_list_lm])"
   ]
  },
  {
   "cell_type": "code",
   "execution_count": 12,
   "metadata": {},
   "outputs": [],
   "source": [
    "import matplotlib.pyplot as plt\n",
    "from matplotlib.backends.backend_pdf import PdfPages"
   ]
  },
  {
   "cell_type": "code",
   "execution_count": 14,
   "metadata": {},
   "outputs": [
    {
     "name": "stderr",
     "output_type": "stream",
     "text": [
      "The PostScript backend does not support transparency; partially transparent artists will be rendered opaque.\n"
     ]
    },
    {
     "data": {
      "image/png": "[encoded data removed]",
      "text/plain": [
       "<Figure size 360x360 with 1 Axes>"
      ]
     },
     "metadata": {
      "needs_background": "light"
     },
     "output_type": "display_data"
    }
   ],
   "source": [
    "plt.figure(figsize=(5,5))\n",
    "plt.plot(ratios,p_list,label=\"MDCSpell-MFT\")\n",
    "plt.plot(ratios,p_list_lm,label=\"ReLM\")\n",
    "plt.yticks(fontproperties = 'Times New Roman', size = 18)\n",
    "plt.xticks(fontproperties = 'Times New Roman', size = 18)\n",
    "plt.axvline(x=0.87, c=\"g\", ls=\"--\", lw=1)\n",
    "plt.axvline(x=5, c=\"g\", ls=\"--\", lw=1)\n",
    "\n",
    "\n",
    "plt.text(6,63,\"fpr=6.9\",fontsize=18)\n",
    "plt.text(2,56,\"fpr=16.4\",fontsize=18)\n",
    "\n",
    "plt.xlabel(\"Ratio N/P\",fontdict={'size':18})\n",
    "plt.ylabel(\"Precision p\",fontdict={'size':18})\n",
    "plt.text(5.05,30,\"5\",fontsize=18)\n",
    "plt.text(0.9,30,\"ODW\",fontsize=18)\n",
    "plt.legend(loc='best',prop={'size':16})\n",
    "plt.savefig(\"precision.eps\",dpi=300,format='eps')\n",
    "\n",
    "\n"
   ]
  },
  {
   "cell_type": "code",
   "execution_count": 17,
   "metadata": {},
   "outputs": [],
   "source": [
    "plt.figure(figsize=(5,5))\n",
    "plt.plot(ratios,p_list,label=\"MDCSpell-MFT\")\n",
    "plt.plot(ratios,p_list_lm,label=\"ReLM\")\n",
    "plt.yticks(fontproperties = 'Times New Roman', size = 18)\n",
    "plt.xticks(fontproperties = 'Times New Roman', size = 18)\n",
    "plt.axvline(x=0.87, c=\"g\", ls=\"--\", lw=1)\n",
    "plt.axvline(x=5, c=\"g\", ls=\"--\", lw=1)\n",
    "\n",
    "plt.text(6,63,\"fpr=6.9\",fontsize=18)\n",
    "plt.text(2,56,\"fpr=16.4\",fontsize=18)\n",
    "\n",
    "plt.xlabel(\"Ratio N/P\",fontdict={'size':18})\n",
    "plt.ylabel(\"Precision p\",fontdict={'size':18})\n",
    "plt.text(5.05,30,\"5\",fontsize=18)\n",
    "plt.text(0.9,30,\"ODW\",fontsize=18)\n",
    "plt.legend(loc='best',prop={'size':16})\n",
    "\n",
    "pdf = PdfPages('precision.pdf') \n",
    "pdf.savefig(bbox_inches='tight')\n",
    "plt.close()\n",
    "pdf.close()"
   ]
  },
  {
   "cell_type": "code",
   "execution_count": 15,
   "metadata": {},
   "outputs": [
    {
     "name": "stderr",
     "output_type": "stream",
     "text": [
      "The PostScript backend does not support transparency; partially transparent artists will be rendered opaque.\n"
     ]
    },
    {
     "data": {
      "image/png": "[encoded data removed]",
      "text/plain": [
       "<Figure size 360x360 with 1 Axes>"
      ]
     },
     "metadata": {
      "needs_background": "light"
     },
     "output_type": "display_data"
    }
   ],
   "source": [
    "plt.figure(figsize=(5,5))\n",
    "plt.plot(ratios,f1_list,label=\"MDCSpell-MFT\")\n",
    "plt.plot(ratios,f1_list_lm,label=\"ReLM\")\n",
    "plt.yticks(fontproperties = 'Times New Roman', size = 18)\n",
    "plt.xticks(fontproperties = 'Times New Roman', size = 18)\n",
    "plt.axvline(x=0.87, c=\"g\", ls=\"--\", lw=1)\n",
    "plt.axvline(x=5, c=\"g\", ls=\"--\", lw=1)\n",
    "\n",
    "plt.text(6,73,\"fpr=6.9\",fontsize=18)\n",
    "plt.text(2,62,\"fpr=16.4\",fontsize=18)\n",
    "\n",
    "plt.xlabel(\"Ratio N/P\",fontdict={'size':18})\n",
    "plt.ylabel(\"F1\",fontdict={'size':18})\n",
    "plt.text(5.05,40,\"5\",fontsize=18)\n",
    "plt.text(0.9,40,\"ODW\",fontsize=16)\n",
    "plt.legend(loc='best',prop={'size':17})\n",
    "\n",
    "plt.savefig(\"f1.pdf\",dpi=300,format='eps')"
   ]
  },
  {
   "cell_type": "code",
   "execution_count": 16,
   "metadata": {},
   "outputs": [
    {
     "name": "stderr",
     "output_type": "stream",
     "text": [
      "The PostScript backend does not support transparency; partially transparent artists will be rendered opaque.\n"
     ]
    }
   ],
   "source": [
    "plt.figure(figsize=(5,5))\n",
    "plt.plot(ratios,f1_list,label=\"MDCSpell-MFT\")\n",
    "plt.plot(ratios,f1_list_lm,label=\"ReLM\")\n",
    "plt.yticks(fontproperties = 'Times New Roman', size = 18)\n",
    "plt.xticks(fontproperties = 'Times New Roman', size = 18)\n",
    "plt.axvline(x=0.87, c=\"g\", ls=\"--\", lw=1)\n",
    "plt.axvline(x=5, c=\"g\", ls=\"--\", lw=1)\n",
    "\n",
    "plt.text(6,73,\"fpr=6.9\",fontsize=18)\n",
    "plt.text(2,62,\"fpr=16.4\",fontsize=18)\n",
    "\n",
    "plt.xlabel(\"Ratio N/P\",fontdict={'size':18})\n",
    "plt.ylabel(\"F1\",fontdict={'size':18})\n",
    "plt.text(5.05,40,\"5\",fontsize=18)\n",
    "plt.text(0.9,40,\"ODW\",fontsize=18)\n",
    "plt.legend(loc='best',prop={'size':16})\n",
    "\n",
    "plt.savefig(\"f1.pdf\",dpi=300,format='eps')\n",
    "pdf = PdfPages('f1.pdf') \n",
    "pdf.savefig(bbox_inches='tight')\n",
    "plt.close()\n",
    "pdf.close()"
   ]
  },
  {
   "cell_type": "markdown",
   "metadata": {},
   "source": [
    "#### mask rate"
   ]
  },
  {
   "cell_type": "code",
   "execution_count": 19,
   "metadata": {},
   "outputs": [
    {
     "data": {
      "text/plain": [
       "(50.0, 80.0)"
      ]
     },
     "execution_count": 19,
     "metadata": {},
     "output_type": "execute_result"
    },
    {
     "data": {
      "image/png": "[encoded data removed]",
      "text/plain": [
       "<Figure size 432x288 with 1 Axes>"
      ]
     },
     "metadata": {
      "needs_background": "light"
     },
     "output_type": "display_data"
    }
   ],
   "source": [
    "mask_rates = np.array([0,0.1,0.2,0.3,0.4,0.5,0.6])\n",
    "f1_mask_rates = np.array([57.8, 69.3, 75.2, 76.6,77.8, 77.4, 75.8])\n",
    "plt.plot(mask_rates, f1_mask_rates)\n",
    "plt.scatter(mask_rates,f1_mask_rates,marker='o')\n",
    "plt.ylim((50,80))"
   ]
  },
  {
   "cell_type": "code",
   "execution_count": 225,
   "metadata": {},
   "outputs": [],
   "source": [
    "import torch"
   ]
  },
  {
   "cell_type": "code",
   "execution_count": 226,
   "metadata": {},
   "outputs": [],
   "source": [
    "a = torch.rand(6,3)\n",
    "shape = a.size()"
   ]
  },
  {
   "cell_type": "code",
   "execution_count": 227,
   "metadata": {},
   "outputs": [
    {
     "data": {
      "text/plain": [
       "tensor([[1., 1., 1.],\n",
       "        [1., 1., 1.],\n",
       "        [1., 1., 1.],\n",
       "        [1., 1., 1.],\n",
       "        [1., 1., 1.],\n",
       "        [1., 1., 1.]])"
      ]
     },
     "execution_count": 227,
     "metadata": {},
     "output_type": "execute_result"
    }
   ],
   "source": [
    "csc_task_matrix=torch.ones(shape)\n",
    "csc_task_matrix"
   ]
  },
  {
   "cell_type": "code",
   "execution_count": 228,
   "metadata": {},
   "outputs": [],
   "source": [
    "task_ids = torch.tensor([1,2,3,2,2,1],dtype=torch.long)\n",
    "task_ids_=task_ids.unsqueeze(dim=-1).expand(csc_task_matrix.size())"
   ]
  },
  {
   "cell_type": "code",
   "execution_count": 229,
   "metadata": {},
   "outputs": [
    {
     "data": {
      "text/plain": [
       "tensor([[False, False, False],\n",
       "        [ True,  True,  True],\n",
       "        [ True,  True,  True],\n",
       "        [ True,  True,  True],\n",
       "        [ True,  True,  True],\n",
       "        [False, False, False]])"
      ]
     },
     "execution_count": 229,
     "metadata": {},
     "output_type": "execute_result"
    }
   ],
   "source": [
    "task_ids_!=csc_task_matrix"
   ]
  },
  {
   "cell_type": "code",
   "execution_count": 230,
   "metadata": {},
   "outputs": [
    {
     "data": {
      "text/plain": [
       "[1, 2, 3]"
      ]
     },
     "execution_count": 230,
     "metadata": {},
     "output_type": "execute_result"
    }
   ],
   "source": [
    "a = [1,2,3]\n",
    "b = [-100]*-2+a\n",
    "b"
   ]
  },
  {
   "cell_type": "code",
   "execution_count": 231,
   "metadata": {},
   "outputs": [],
   "source": [
    "import torch\n",
    "from transformers import AutoTokenizer"
   ]
  },
  {
   "cell_type": "code",
   "execution_count": 232,
   "metadata": {},
   "outputs": [],
   "source": [
    "from transformers import BertTokenizer, GPT2LMHeadModel\n",
    "tokenizer = BertTokenizer.from_pretrained(\"uer/gpt2-chinese-cluecorpussmall\")\n",
    "model = GPT2LMHeadModel.from_pretrained(\"uer/gpt2-chinese-cluecorpussmall\")"
   ]
  },
  {
   "cell_type": "code",
   "execution_count": 233,
   "metadata": {},
   "outputs": [
    {
     "data": {
      "text/plain": [
       "102"
      ]
     },
     "execution_count": 233,
     "metadata": {},
     "output_type": "execute_result"
    }
   ],
   "source": [
    "tokenizer.sep_token_id"
   ]
  },
  {
   "cell_type": "code",
   "execution_count": 130,
   "metadata": {},
   "outputs": [],
   "source": [
    "source = [\"我\",\"们\"]\n",
    "#source = \"我们\""
   ]
  },
  {
   "cell_type": "code",
   "execution_count": 131,
   "metadata": {},
   "outputs": [],
   "source": [
    "encoded_inputs = tokenizer(source, add_special_tokens=False ,is_split_into_words=True)\n",
    "encoded_inputs['input_ids'] = [tokenizer.cls_token_id]+encoded_inputs['input_ids']"
   ]
  },
  {
   "cell_type": "code",
   "execution_count": 132,
   "metadata": {},
   "outputs": [
    {
     "data": {
      "text/plain": [
       "{'input_ids': [101, 2769, 812], 'token_type_ids': [0, 0], 'attention_mask': [1, 1]}"
      ]
     },
     "execution_count": 132,
     "metadata": {},
     "output_type": "execute_result"
    }
   ],
   "source": [
    "encoded_inputs"
   ]
  },
  {
   "cell_type": "code",
   "execution_count": 136,
   "metadata": {},
   "outputs": [
    {
     "data": {
      "text/plain": [
       "'我 们'"
      ]
     },
     "execution_count": 136,
     "metadata": {},
     "output_type": "execute_result"
    }
   ],
   "source": [
    "tokenizer.convert_ids_to_tokens(encoded_inputs[\"input_ids\"],skip_special_tokens=True)"
   ]
  },
  {
   "cell_type": "code",
   "execution_count": 164,
   "metadata": {},
   "outputs": [
    {
     "data": {
      "text/plain": [
       "tensor([[1, 2, 3],\n",
       "        [2, 5, 3]])"
      ]
     },
     "execution_count": 164,
     "metadata": {},
     "output_type": "execute_result"
    }
   ],
   "source": [
    "a = torch.tensor([[1,2,3],[2,5,3]])\n",
    "a"
   ]
  },
  {
   "cell_type": "code",
   "execution_count": 162,
   "metadata": {},
   "outputs": [
    {
     "data": {
      "text/plain": [
       "tensor([2, 3, 2, 3, 3])"
      ]
     },
     "execution_count": 162,
     "metadata": {},
     "output_type": "execute_result"
    }
   ],
   "source": [
    "a[torch.where(a!=1)]"
   ]
  },
  {
   "cell_type": "code",
   "execution_count": 168,
   "metadata": {},
   "outputs": [
    {
     "data": {
      "text/plain": [
       "<function ndarray.tolist>"
      ]
     },
     "execution_count": 168,
     "metadata": {},
     "output_type": "execute_result"
    }
   ],
   "source": [
    "a.cpu().numpy().tolist"
   ]
  },
  {
   "cell_type": "code",
   "execution_count": 157,
   "metadata": {},
   "outputs": [
    {
     "data": {
      "text/plain": [
       "(3,)"
      ]
     },
     "execution_count": 157,
     "metadata": {},
     "output_type": "execute_result"
    }
   ],
   "source": [
    "np.array(a).shape"
   ]
  },
  {
   "cell_type": "code",
   "execution_count": 159,
   "metadata": {},
   "outputs": [
    {
     "data": {
      "text/plain": [
       "0"
      ]
     },
     "execution_count": 159,
     "metadata": {},
     "output_type": "execute_result"
    }
   ],
   "source": [
    "tokenizer.pad_token_id"
   ]
  },
  {
   "cell_type": "code",
   "execution_count": 166,
   "metadata": {},
   "outputs": [
    {
     "data": {
      "text/plain": [
       "tensor([True, True])"
      ]
     },
     "execution_count": 166,
     "metadata": {},
     "output_type": "execute_result"
    }
   ],
   "source": [
    "torch.max(a,-1)[1]==a.argmax(dim=-1)"
   ]
  },
  {
   "cell_type": "code",
   "execution_count": 4,
   "metadata": {},
   "outputs": [
    {
     "data": {
      "text/plain": [
       "'[UNK]'"
      ]
     },
     "execution_count": 4,
     "metadata": {},
     "output_type": "execute_result"
    }
   ],
   "source": [
    "tokenizer.convert_ids_to_tokens(10000000)"
   ]
  },
  {
   "cell_type": "code",
   "execution_count": 6,
   "metadata": {},
   "outputs": [
    {
     "data": {
      "text/plain": [
       "21128"
      ]
     },
     "execution_count": 6,
     "metadata": {},
     "output_type": "execute_result"
    }
   ],
   "source": [
    "tokenizer = BertTokenizer.from_pretrained(\"bert-base-chinese\")\n",
    "tokenizer.vocab_size"
   ]
  },
  {
   "cell_type": "code",
   "execution_count": 66,
   "metadata": {},
   "outputs": [
    {
     "data": {
      "text/plain": [
       "0.8796992481203008"
      ]
     },
     "execution_count": 66,
     "metadata": {},
     "output_type": "execute_result"
    }
   ],
   "source": [
    "234/266"
   ]
  },
  {
   "cell_type": "code",
   "execution_count": null,
   "metadata": {},
   "outputs": [],
   "source": []
  }
 ],
 "metadata": {
  "kernelspec": {
   "display_name": "pytorch",
   "language": "python",
   "name": "python3"
  },
  "language_info": {
   "codemirror_mode": {
    "name": "ipython",
    "version": 3
   },
   "file_extension": ".py",
   "mimetype": "text/x-python",
   "name": "python",
   "nbconvert_exporter": "python",
   "pygments_lexer": "ipython3",
   "version": "3.9.7"
  },
  "orig_nbformat": 4
 },
 "nbformat": 4,
 "nbformat_minor": 2
}
