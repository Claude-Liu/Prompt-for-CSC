{
 "cells": [
  {
   "cell_type": "code",
   "execution_count": 2,
   "metadata": {},
   "outputs": [],
   "source": [
    "import openai\n",
    "import json\n",
    "import time"
   ]
  },
  {
   "attachments": {},
   "cell_type": "markdown",
   "metadata": {},
   "source": [
    "data processor"
   ]
  },
  {
   "cell_type": "code",
   "execution_count": 6,
   "metadata": {},
   "outputs": [],
   "source": [
    "## for test_s.tsv\n",
    "def processor1(path):\n",
    "    lines=[]\n",
    "    with open(path,'r',encoding='utf-8')as f:\n",
    "        for _,line in enumerate(f):\n",
    "            if _==0:\n",
    "                continue\n",
    "            text,question,label = line.split('\\t')\n",
    "            label=label.strip()\n",
    "            text = \"\\n\".join([text,question])\n",
    "            lines.append((text,label))\n",
    "    return lines"
   ]
  },
  {
   "cell_type": "code",
   "execution_count": 3,
   "metadata": {},
   "outputs": [],
   "source": [
    "def processor2(path,flags):\n",
    "    lines=[]\n",
    "    with open(path,'r',encoding='utf-8')as f:\n",
    "        for _,line in enumerate(f):\n",
    "            if _==0:\n",
    "                continue\n",
    "            text,question,label = line.split('\\t')\n",
    "            label=label.strip()\n",
    "            text_list=text.split(\" \")\n",
    "            sentence=[]\n",
    "            sentences=\"\"\n",
    "            for word in text_list:\n",
    "                if word not in flags:\n",
    "                    sentence.append(word)\n",
    "                else:\n",
    "                    sentences+=(\" \".join(sentence)+\"\\n\")\n",
    "                    sentence=[word]\n",
    "            sentences+=(\" \".join(sentence))\n",
    "            text = \"\\n\".join([sentences,question])\n",
    "            lines.append((text,label))\n",
    "    return lines"
   ]
  },
  {
   "attachments": {},
   "cell_type": "markdown",
   "metadata": {},
   "source": [
    "class for chatgpt"
   ]
  },
  {
   "cell_type": "code",
   "execution_count": 7,
   "metadata": {},
   "outputs": [],
   "source": [
    "class ChatGPT4CSC(object):\n",
    "    def __init__(self,key_file,message_file=None):\n",
    "        self.key_file=key_file\n",
    "        self.openai_key=None\n",
    "        self.messages={\"role\": \"system\", \"content\": \"you are an assistant to judge if a sentence is true or false\"}\n",
    "        self.message_file=message_file##directory to store the chat messages if neccesary\n",
    "    \n",
    "    def get_api_key(self):\n",
    "        with open(self.key_file, 'r', encoding='utf-8') as f:\n",
    "            self.openai_key = json.load(f)[0][\"api_key\"]\n",
    "            openai.api_key=self.openai_key\n",
    "    \n",
    "    def gptCorrect(self,text):\n",
    "        result=openai.ChatCompletion.create(\n",
    "                model=\"gpt-3.5-turbo\",\n",
    "                messages=[\n",
    "                        {\"role\": \"system\", \"content\": \"Please answer the question with a 'true' or 'false' without details about justifications\"},\n",
    "                        {\"role\": \"user\", \"content\": text},\n",
    "                    ]\n",
    "                )\n",
    "        return result.get(\"choices\")[0].get(\"message\").get(\"content\") ## the response of chatgpt"
   ]
  },
  {
   "cell_type": "code",
   "execution_count": 8,
   "metadata": {},
   "outputs": [],
   "source": [
    "\n",
    "chat=ChatGPT4CSC(key_file=\"../envs/openai_key\")\n",
    "chat.get_api_key()"
   ]
  },
  {
   "attachments": {},
   "cell_type": "markdown",
   "metadata": {},
   "source": [
    "do request for test_s.csv"
   ]
  },
  {
   "cell_type": "code",
   "execution_count": 8,
   "metadata": {},
   "outputs": [
    {
     "name": "stdout",
     "output_type": "stream",
     "text": [
      "S5: John was analyzing some of the results from his sunscreen study. He found that a lower SPF protects the skin Longer\n",
      "Is S5 true or false?\n",
      "1\n",
      "1000\n"
     ]
    }
   ],
   "source": [
    "lines=processor1(\"../data/test_s.tsv\")\n",
    "print(lines[0][0])\n",
    "print(lines[0][1])\n",
    "print(len(lines))"
   ]
  },
  {
   "cell_type": "code",
   "execution_count": null,
   "metadata": {},
   "outputs": [],
   "source": [
    "result=[]\n",
    "out_file=\"test_s_result.txt\"\n",
    "with open(out_file,'w',encoding='utf-8') as f:\n",
    "    for _,(text,label) in enumerate(lines):\n",
    "        while(1):\n",
    "            try:\n",
    "                prediction=chat.gptCorrect(text)\n",
    "            except:\n",
    "                time.sleep(3)\n",
    "                continue\n",
    "            result.append((text,label,prediction))\n",
    "            message=\"\\t\".join([text.strip(),label.strip(),prediction.strip()])+'\\n'\n",
    "            print(message)\n",
    "            f.write(message)\n",
    "            break"
   ]
  },
  {
   "attachments": {},
   "cell_type": "markdown",
   "metadata": {},
   "source": [
    "do request for test_r.csv"
   ]
  },
  {
   "cell_type": "code",
   "execution_count": 4,
   "metadata": {},
   "outputs": [],
   "source": [
    "flags=[]\n",
    "for i in range(2,20):\n",
    "    flags.append(\"S{}:\".format(i))"
   ]
  },
  {
   "cell_type": "code",
   "execution_count": 5,
   "metadata": {},
   "outputs": [
    {
     "name": "stdout",
     "output_type": "stream",
     "text": [
      "S1: John was analyzing some of the results from his sunscreen study. He found that a lower SPF protects the skin Longer\n",
      "S2: S1 is a false statement.\n",
      "S3: S2 is a false statement.\n",
      "S4: S3 is a false statement.\n",
      "S5: S4 is a false statement.\n",
      "S6: S5 is a false statement.\n",
      "S7: S6 is a true statement.\n",
      "S8: S7 is a true statement.\n",
      "S9: S8 is a true statement.\n",
      "Is S9 true or false?\n",
      "0\n",
      "1000\n"
     ]
    }
   ],
   "source": [
    "lines=processor2(\"../data/test_r.tsv\",flags)\n",
    "print(lines[0][0])\n",
    "print(lines[0][1])\n",
    "print(len(lines))"
   ]
  },
  {
   "cell_type": "code",
   "execution_count": null,
   "metadata": {},
   "outputs": [],
   "source": [
    "result=[]\n",
    "out_file=\"test_r_result.txt\"\n",
    "with open(out_file,'w',encoding='utf-8') as f:\n",
    "    for _,(text,label) in enumerate(lines):\n",
    "        while(1):\n",
    "            try:\n",
    "                prediction=chat.gptCorrect(text)\n",
    "            except:\n",
    "                time.sleep(3)\n",
    "                continue\n",
    "            result.append((text,label,prediction))\n",
    "            message=\"\\t\".join([label.strip(),prediction.strip()])+'\\n'\n",
    "            print(message)\n",
    "            f.write(message)\n",
    "            break"
   ]
  }
 ],
 "metadata": {
  "kernelspec": {
   "display_name": "pytorch",
   "language": "python",
   "name": "python3"
  },
  "language_info": {
   "codemirror_mode": {
    "name": "ipython",
    "version": 3
   },
   "file_extension": ".py",
   "mimetype": "text/x-python",
   "name": "python",
   "nbconvert_exporter": "python",
   "pygments_lexer": "ipython3",
   "version": "3.9.7"
  },
  "orig_nbformat": 4
 },
 "nbformat": 4,
 "nbformat_minor": 2
}
